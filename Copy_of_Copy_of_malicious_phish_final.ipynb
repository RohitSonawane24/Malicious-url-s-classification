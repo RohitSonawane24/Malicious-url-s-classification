{
  "nbformat": 4,
  "nbformat_minor": 0,
  "metadata": {
    "colab": {
      "name": "Copy of Copy of malicious_phish_final.ipynb",
      "provenance": [],
      "collapsed_sections": []
    },
    "kernelspec": {
      "name": "python3",
      "display_name": "Python 3"
    },
    "language_info": {
      "name": "python"
    }
  },
  "cells": [
    {
      "cell_type": "code",
      "metadata": {
        "id": "Ucw3Zlynmpvw"
      },
      "source": [
        "import pandas as pd"
      ],
      "execution_count": 1,
      "outputs": []
    },
    {
      "cell_type": "markdown",
      "metadata": {
        "id": "vylCmAaiqyMS"
      },
      "source": [
        "*Importing pandas to read files and data exploration*"
      ]
    },
    {
      "cell_type": "code",
      "metadata": {
        "id": "AI8kyvMom9jo"
      },
      "source": [
        "df = pd.read_csv(\"malicious_phish.csv\")"
      ],
      "execution_count": 7,
      "outputs": []
    },
    {
      "cell_type": "code",
      "metadata": {
        "colab": {
          "base_uri": "https://localhost:8080/",
          "height": 415
        },
        "id": "QiPXI4mSm6-O",
        "outputId": "56d4d8d9-0451-4163-dc40-603474ce4b62"
      },
      "source": [
        "df"
      ],
      "execution_count": 8,
      "outputs": [
        {
          "output_type": "execute_result",
          "data": {
            "text/html": [
              "<div>\n",
              "<style scoped>\n",
              "    .dataframe tbody tr th:only-of-type {\n",
              "        vertical-align: middle;\n",
              "    }\n",
              "\n",
              "    .dataframe tbody tr th {\n",
              "        vertical-align: top;\n",
              "    }\n",
              "\n",
              "    .dataframe thead th {\n",
              "        text-align: right;\n",
              "    }\n",
              "</style>\n",
              "<table border=\"1\" class=\"dataframe\">\n",
              "  <thead>\n",
              "    <tr style=\"text-align: right;\">\n",
              "      <th></th>\n",
              "      <th>url</th>\n",
              "      <th>type</th>\n",
              "    </tr>\n",
              "  </thead>\n",
              "  <tbody>\n",
              "    <tr>\n",
              "      <th>0</th>\n",
              "      <td>br-icloud.com.br</td>\n",
              "      <td>phishing</td>\n",
              "    </tr>\n",
              "    <tr>\n",
              "      <th>1</th>\n",
              "      <td>mp3raid.com/music/krizz_kaliko.html</td>\n",
              "      <td>benign</td>\n",
              "    </tr>\n",
              "    <tr>\n",
              "      <th>2</th>\n",
              "      <td>bopsecrets.org/rexroth/cr/1.htm</td>\n",
              "      <td>benign</td>\n",
              "    </tr>\n",
              "    <tr>\n",
              "      <th>3</th>\n",
              "      <td>http://www.garage-pirenne.be/index.php?option=...</td>\n",
              "      <td>defacement</td>\n",
              "    </tr>\n",
              "    <tr>\n",
              "      <th>4</th>\n",
              "      <td>http://adventure-nicaragua.net/index.php?optio...</td>\n",
              "      <td>defacement</td>\n",
              "    </tr>\n",
              "    <tr>\n",
              "      <th>...</th>\n",
              "      <td>...</td>\n",
              "      <td>...</td>\n",
              "    </tr>\n",
              "    <tr>\n",
              "      <th>651186</th>\n",
              "      <td>xbox360.ign.com/objects/850/850402.html</td>\n",
              "      <td>phishing</td>\n",
              "    </tr>\n",
              "    <tr>\n",
              "      <th>651187</th>\n",
              "      <td>games.teamxbox.com/xbox-360/1860/Dead-Space/</td>\n",
              "      <td>phishing</td>\n",
              "    </tr>\n",
              "    <tr>\n",
              "      <th>651188</th>\n",
              "      <td>www.gamespot.com/xbox360/action/deadspace/</td>\n",
              "      <td>phishing</td>\n",
              "    </tr>\n",
              "    <tr>\n",
              "      <th>651189</th>\n",
              "      <td>en.wikipedia.org/wiki/Dead_Space_(video_game)</td>\n",
              "      <td>phishing</td>\n",
              "    </tr>\n",
              "    <tr>\n",
              "      <th>651190</th>\n",
              "      <td>www.angelfire.com/goth/devilmaycrytonite/</td>\n",
              "      <td>phishing</td>\n",
              "    </tr>\n",
              "  </tbody>\n",
              "</table>\n",
              "<p>651191 rows × 2 columns</p>\n",
              "</div>"
            ],
            "text/plain": [
              "                                                      url        type\n",
              "0                                        br-icloud.com.br    phishing\n",
              "1                     mp3raid.com/music/krizz_kaliko.html      benign\n",
              "2                         bopsecrets.org/rexroth/cr/1.htm      benign\n",
              "3       http://www.garage-pirenne.be/index.php?option=...  defacement\n",
              "4       http://adventure-nicaragua.net/index.php?optio...  defacement\n",
              "...                                                   ...         ...\n",
              "651186            xbox360.ign.com/objects/850/850402.html    phishing\n",
              "651187       games.teamxbox.com/xbox-360/1860/Dead-Space/    phishing\n",
              "651188         www.gamespot.com/xbox360/action/deadspace/    phishing\n",
              "651189      en.wikipedia.org/wiki/Dead_Space_(video_game)    phishing\n",
              "651190          www.angelfire.com/goth/devilmaycrytonite/    phishing\n",
              "\n",
              "[651191 rows x 2 columns]"
            ]
          },
          "metadata": {},
          "execution_count": 8
        }
      ]
    },
    {
      "cell_type": "markdown",
      "metadata": {
        "id": "AbM_SWjqrXY7"
      },
      "source": [
        "*Feature engineering* "
      ]
    },
    {
      "cell_type": "code",
      "metadata": {
        "colab": {
          "base_uri": "https://localhost:8080/"
        },
        "id": "Dvy9dkympYtQ",
        "outputId": "93d70d15-3d27-4475-9a1c-c9d414bb3c31"
      },
      "source": [
        "df.dtypes"
      ],
      "execution_count": 9,
      "outputs": [
        {
          "output_type": "execute_result",
          "data": {
            "text/plain": [
              "url     object\n",
              "type    object\n",
              "dtype: object"
            ]
          },
          "metadata": {},
          "execution_count": 9
        }
      ]
    },
    {
      "cell_type": "code",
      "metadata": {
        "colab": {
          "base_uri": "https://localhost:8080/"
        },
        "id": "FPIbTa_tpcRj",
        "outputId": "1e0754d3-ff81-470e-b463-52ee68937c89"
      },
      "source": [
        "df.isnull().sum()"
      ],
      "execution_count": 10,
      "outputs": [
        {
          "output_type": "execute_result",
          "data": {
            "text/plain": [
              "url     0\n",
              "type    0\n",
              "dtype: int64"
            ]
          },
          "metadata": {},
          "execution_count": 10
        }
      ]
    },
    {
      "cell_type": "code",
      "metadata": {
        "colab": {
          "base_uri": "https://localhost:8080/"
        },
        "id": "FfbmDhcOpjOD",
        "outputId": "7aeae995-e545-4ad4-ab6b-cfff56e4dd25"
      },
      "source": [
        "X = df['url']\n",
        "X"
      ],
      "execution_count": 11,
      "outputs": [
        {
          "output_type": "execute_result",
          "data": {
            "text/plain": [
              "0                                          br-icloud.com.br\n",
              "1                       mp3raid.com/music/krizz_kaliko.html\n",
              "2                           bopsecrets.org/rexroth/cr/1.htm\n",
              "3         http://www.garage-pirenne.be/index.php?option=...\n",
              "4         http://adventure-nicaragua.net/index.php?optio...\n",
              "                                ...                        \n",
              "651186              xbox360.ign.com/objects/850/850402.html\n",
              "651187         games.teamxbox.com/xbox-360/1860/Dead-Space/\n",
              "651188           www.gamespot.com/xbox360/action/deadspace/\n",
              "651189        en.wikipedia.org/wiki/Dead_Space_(video_game)\n",
              "651190            www.angelfire.com/goth/devilmaycrytonite/\n",
              "Name: url, Length: 651191, dtype: object"
            ]
          },
          "metadata": {},
          "execution_count": 11
        }
      ]
    },
    {
      "cell_type": "code",
      "metadata": {
        "id": "2q-MVha4pqOY"
      },
      "source": [
        "df.loc[df['type'] =='phishing','type',] = 0\n",
        "df.loc[df['type'] =='benign','type',] = 1\n",
        "df.loc[df['type'] =='defacement','type',] = 2\n",
        "df.loc[df['type'] =='malware','type',] = 3"
      ],
      "execution_count": 12,
      "outputs": []
    },
    {
      "cell_type": "code",
      "metadata": {
        "colab": {
          "base_uri": "https://localhost:8080/"
        },
        "id": "LNzm4bM9powN",
        "outputId": "1b7f5a4a-e5eb-4dd9-f4b1-14faa2051d55"
      },
      "source": [
        "y = df['type']\n",
        "y"
      ],
      "execution_count": 13,
      "outputs": [
        {
          "output_type": "execute_result",
          "data": {
            "text/plain": [
              "0         0\n",
              "1         1\n",
              "2         1\n",
              "3         2\n",
              "4         2\n",
              "         ..\n",
              "651186    0\n",
              "651187    0\n",
              "651188    0\n",
              "651189    0\n",
              "651190    0\n",
              "Name: type, Length: 651191, dtype: object"
            ]
          },
          "metadata": {},
          "execution_count": 13
        }
      ]
    },
    {
      "cell_type": "markdown",
      "metadata": {
        "id": "ZmPlz16AriNx"
      },
      "source": [
        "*Performing train test split to split the data between training set and testing set*"
      ]
    },
    {
      "cell_type": "code",
      "metadata": {
        "id": "4Baj8uwbqThD"
      },
      "source": [
        "from sklearn.model_selection import train_test_split"
      ],
      "execution_count": 14,
      "outputs": []
    },
    {
      "cell_type": "code",
      "metadata": {
        "id": "jHUX2F_cqdsV"
      },
      "source": [
        "x_train,x_test,y_train,y_test = train_test_split(X,y,test_size = 0.2,random_state = 1)"
      ],
      "execution_count": 15,
      "outputs": []
    },
    {
      "cell_type": "markdown",
      "metadata": {
        "id": "aBILapAKr0uK"
      },
      "source": [
        "*Importing TfidVectorizer from sklearn.feature_extraction.text which will remove StopWords and will convert colletion of raw documents to a matrix of Tf  Idf*"
      ]
    },
    {
      "cell_type": "code",
      "metadata": {
        "id": "xFJenY67qcP2"
      },
      "source": [
        "from sklearn.feature_extraction.text import TfidfVectorizer"
      ],
      "execution_count": 16,
      "outputs": []
    },
    {
      "cell_type": "code",
      "metadata": {
        "id": "_I8GPISpq4gi"
      },
      "source": [
        "feature_extraction = TfidfVectorizer(min_df=1,stop_words='english',lowercase=True)"
      ],
      "execution_count": 17,
      "outputs": []
    },
    {
      "cell_type": "markdown",
      "metadata": {
        "id": "wJegrB33trDF"
      },
      "source": [
        "*Fitting and transforming data*"
      ]
    },
    {
      "cell_type": "code",
      "metadata": {
        "id": "0DaEhmC9pVbW"
      },
      "source": [
        "x_train_tfidf = feature_extraction.fit_transform(x_train)\n",
        "x_test_tfidf = feature_extraction.transform(x_test)"
      ],
      "execution_count": 18,
      "outputs": []
    },
    {
      "cell_type": "markdown",
      "metadata": {
        "id": "ZZNgxcXAubCU"
      },
      "source": [
        "*Converting datatype of Y_train and Y_test to int*"
      ]
    },
    {
      "cell_type": "code",
      "metadata": {
        "id": "sZVv1BZGrtEx"
      },
      "source": [
        "y_train = y_train.astype('int')\n",
        "y_test = y_test.astype('int')"
      ],
      "execution_count": 19,
      "outputs": []
    },
    {
      "cell_type": "markdown",
      "metadata": {
        "id": "J4L0yFz5uqKt"
      },
      "source": [
        "*Importing LinearSVC from Sklearn and fitting model*"
      ]
    },
    {
      "cell_type": "code",
      "metadata": {
        "id": "In1HSggvr5-m"
      },
      "source": [
        "from sklearn.svm import LinearSVC"
      ],
      "execution_count": 20,
      "outputs": []
    },
    {
      "cell_type": "code",
      "metadata": {
        "colab": {
          "base_uri": "https://localhost:8080/"
        },
        "id": "aer7sgcLsGrv",
        "outputId": "ba096f7f-7575-4c04-8317-90bd62fe6bfe"
      },
      "source": [
        "model = LinearSVC()\n",
        "model.fit(x_train_tfidf,y_train)"
      ],
      "execution_count": 21,
      "outputs": [
        {
          "output_type": "execute_result",
          "data": {
            "text/plain": [
              "LinearSVC(C=1.0, class_weight=None, dual=True, fit_intercept=True,\n",
              "          intercept_scaling=1, loss='squared_hinge', max_iter=1000,\n",
              "          multi_class='ovr', penalty='l2', random_state=None, tol=0.0001,\n",
              "          verbose=0)"
            ]
          },
          "metadata": {},
          "execution_count": 21
        }
      ]
    },
    {
      "cell_type": "markdown",
      "metadata": {
        "id": "DY43lx27vwvw"
      },
      "source": [
        "*Now importing accuracy_score to calculate accuracy on training and testing model*"
      ]
    },
    {
      "cell_type": "code",
      "metadata": {
        "id": "P4fLESYNslC7"
      },
      "source": [
        "from sklearn.metrics import accuracy_score"
      ],
      "execution_count": 22,
      "outputs": []
    },
    {
      "cell_type": "code",
      "metadata": {
        "id": "rt6BBQKIsLMI"
      },
      "source": [
        "prediction_on_train_data = model.predict(x_train_tfidf)\n",
        "accuracy_on_train_data = accuracy_score(y_train,prediction_on_train_data)"
      ],
      "execution_count": 23,
      "outputs": []
    },
    {
      "cell_type": "markdown",
      "metadata": {
        "id": "4661OIPFwUaw"
      },
      "source": [
        "*Here we got 99% accuracy on training data*"
      ]
    },
    {
      "cell_type": "code",
      "metadata": {
        "colab": {
          "base_uri": "https://localhost:8080/"
        },
        "id": "3eTwhu7lr1d8",
        "outputId": "e11b2200-8784-4be3-e764-a194654532ad"
      },
      "source": [
        "accuracy_on_train_data"
      ],
      "execution_count": 24,
      "outputs": [
        {
          "output_type": "execute_result",
          "data": {
            "text/plain": [
              "0.9973644404858797"
            ]
          },
          "metadata": {},
          "execution_count": 24
        }
      ]
    },
    {
      "cell_type": "code",
      "metadata": {
        "id": "VBa3CJpms6Hc"
      },
      "source": [
        "prediction_on_test_data = model.predict(x_test_tfidf)\n",
        "accuracy_on_test_data = accuracy_score(y_test,prediction_on_test_data)"
      ],
      "execution_count": 25,
      "outputs": []
    },
    {
      "cell_type": "markdown",
      "metadata": {
        "id": "ze987hhdwkZe"
      },
      "source": [
        "*Here we got 95% accuracy on test data*"
      ]
    },
    {
      "cell_type": "code",
      "metadata": {
        "colab": {
          "base_uri": "https://localhost:8080/"
        },
        "id": "QTdc8tL-tf2h",
        "outputId": "224d9682-3134-4cd9-81d0-f14fd0566794"
      },
      "source": [
        "accuracy_on_test_data"
      ],
      "execution_count": 26,
      "outputs": [
        {
          "output_type": "execute_result",
          "data": {
            "text/plain": [
              "0.9562880550372777"
            ]
          },
          "metadata": {},
          "execution_count": 26
        }
      ]
    },
    {
      "cell_type": "markdown",
      "metadata": {
        "id": "ggAbhNYZwvD-"
      },
      "source": [
        "*Here we are providing input to model and getting output*"
      ]
    },
    {
      "cell_type": "code",
      "metadata": {
        "id": "HTxrHC6ptkiU",
        "colab": {
          "base_uri": "https://localhost:8080/"
        },
        "outputId": "b4c6507c-5d0e-4248-ca00-541c902f6989"
      },
      "source": [
        "input_web = [input()]\n",
        "input_web_features = feature_extraction.transform(input_web)\n",
        "\n",
        "pred = model.predict(input_web_features)\n",
        "\n",
        "if (pred[0] == 0):\n",
        "  print(\"phishing !!\")\n",
        "elif(pred[0] == 1):\n",
        "  print(\"benign !!\")\n",
        "elif(pred[0] == 2):\n",
        "  print(\"defacement!!!\")\n",
        "else:\n",
        "  print(\"malware!!\")"
      ],
      "execution_count": 27,
      "outputs": [
        {
          "output_type": "stream",
          "name": "stdout",
          "text": [
            "bopsecrets.org/rexroth/cr/1.htm\t\n",
            "benign !!\n"
          ]
        }
      ]
    },
    {
      "cell_type": "markdown",
      "metadata": {
        "id": "MMZ_3BjRxfnG"
      },
      "source": [
        "*Above is our output telling us type of url*"
      ]
    },
    {
      "cell_type": "code",
      "metadata": {
        "id": "gvGsi0Ftxs35"
      },
      "source": [
        ""
      ],
      "execution_count": null,
      "outputs": []
    }
  ]
}